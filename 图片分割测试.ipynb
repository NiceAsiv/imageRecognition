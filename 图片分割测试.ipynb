{
 "cells": [
  {
   "cell_type": "code",
   "execution_count": 25,
   "metadata": {},
   "outputs": [
    {
     "name": "stdout",
     "output_type": "stream",
     "text": [
      "(6, 784)\n"
     ]
    },
    {
     "data": {
      "image/png": "[encoded data removed]",
      "text/plain": [
       "<Figure size 640x480 with 6 Axes>"
      ]
     },
     "metadata": {},
     "output_type": "display_data"
    }
   ],
   "source": [
    "import matplotlib.pyplot as plt\n",
    "import queue\n",
    "import cv2\n",
    "import numpy as np\n",
    "\n",
    "def get_x_y_cuts(data, n_lines=1):\n",
    "    #传入二值化后的图像进行联通域分割\n",
    "    # 获取图像尺寸\n",
    "    w, h = data.shape\n",
    "    # 定义一个集合来保存已访问过的像素\n",
    "    visited = set()\n",
    "    # 创建一个队列，用于广度优先搜索（BFS）\n",
    "    q = queue.Queue()\n",
    "    # 定义邻接像素的位移（8个方向）\n",
    "    offset = [(-1, -1), (0, -1), (1, -1), (-1, 0), (1, 0), (-1, 1), (0, 1), (1, 1)]\n",
    "    # 定义一个列表来保存每个字符的边界位置\n",
    "    cuts = []\n",
    "    x, y = np.where(data<200)\n",
    "    for xi, yi in zip(x, y):\n",
    "        x_axis = []\n",
    "        y_axis = []\n",
    "        if (xi, yi) not in visited:\n",
    "            q.put((xi, yi))\n",
    "            visited.add((xi, yi))\n",
    "        while not q.empty():\n",
    "            x_p, y_p = q.get()\n",
    "            for x_offset, y_offset in offset:\n",
    "                x_c, y_c = x_p + x_offset, y_p + y_offset\n",
    "                if (x_c, y_c) in visited:\n",
    "                    continue\n",
    "                visited.add((x_c, y_c))\n",
    "                try:\n",
    "                    if data[x_c][y_c] <200:\n",
    "                        q.put((x_c, y_c))\n",
    "                        x_axis.append(x_c)\n",
    "                        y_axis.append(y_c)\n",
    "                except:\n",
    "                    pass\n",
    "            # 如果坐标列表不为空，那么就计算当前字符的边界，并保存到cuts列表中\n",
    "            if x_axis:\n",
    "                min_x, max_x = min(x_axis), max(x_axis)\n",
    "                min_y, max_y = min(y_axis), max(y_axis)\n",
    "                if max_x - min_x > 2 or max_y - min_y > 2:\n",
    "                    cuts.append([min_x, max_x + 1, min_y, max_y + 1])\n",
    "                # cuts.append([min_x, max_x + 1, min_y, max_y + 1])\n",
    "    # 将cuts列表中的边界按照y坐标排序，这样做是为了按照字符的读取顺序（从左到右）来处理字符\n",
    "    if n_lines == 1:\n",
    "        cuts = sorted(cuts, key=lambda x: x[2])\n",
    "        pr_item = cuts[0]\n",
    "        count = 1\n",
    "        len_cuts = len(cuts)\n",
    "        new_cuts = [cuts[0]]\n",
    "        pr_k = 0\n",
    "        for i in range(1, len_cuts):\n",
    "            pr_item = new_cuts[pr_k]\n",
    "            now_item = cuts[i]\n",
    "            if not (now_item[2] > pr_item[3]):\n",
    "                new_cuts[pr_k][0] = min(pr_item[0], now_item[0])\n",
    "                new_cuts[pr_k][1] = max(pr_item[1], now_item[1])\n",
    "                new_cuts[pr_k][2] = min(pr_item[2], now_item[2])\n",
    "                new_cuts[pr_k][3] = max(pr_item[3], now_item[3])\n",
    "            else:\n",
    "                new_cuts.append(now_item)\n",
    "                pr_k += 1\n",
    "        cuts = new_cuts\n",
    "    return cuts\n",
    " \n",
    "def get_image_cuts(image, dir=None, is_data=False, n_lines=1, data_needed=False, count=0):\n",
    "    if isinstance(image, str):\n",
    "        data = cv2.imread(image, 2)\n",
    "    else:\n",
    "        data = image\n",
    "    # 获取每个字符的边界\n",
    "    cuts = get_x_y_cuts(data, n_lines=n_lines)\n",
    "    # 定义一个变量来保存所有字符的图像数据\n",
    "    image_cuts = None\n",
    "    # 遍历每个字符的边界，然后裁剪和缩放图像，最后保存到文件或添加到图像数据列表中\n",
    "    for i, item in enumerate(cuts):\n",
    "        count += 1\n",
    "        max_dim = max(item[1] - item[0], item[3] - item[2])\n",
    "        new_data = np.ones((int(1.4 * max_dim), int(1.4 * max_dim))) * 255\n",
    "        x_min, x_max = (max_dim - item[1] + item[0]) // 2, (max_dim - item[1] + item[0]) // 2 + item[1] - item[0]\n",
    "        y_min, y_max = (max_dim - item[3] + item[2]) // 2, (max_dim - item[3] + item[2]) // 2 + item[3] - item[2]\n",
    "        new_data[int(0.2 * max_dim) + x_min:int(0.2 * max_dim) + x_max, int(0.2 * max_dim) + y_min:int(0.2 * max_dim) + y_max] = data[item[0]:item[1], item[2]:item[3]]\n",
    "        standard_data = cv2.resize(new_data, (28, 28))\n",
    "        if not data_needed:\n",
    "            cv2.imwrite(dir + str(count) + \".jpg\", standard_data)\n",
    "        if data_needed:\n",
    "            data_flat = (255 - np.resize(standard_data, (1, 28 * 28))) / 255\n",
    "            if image_cuts is None:\n",
    "                image_cuts = data_flat\n",
    "            else:\n",
    "                image_cuts = np.r_[image_cuts, data_flat]\n",
    "    if data_needed:\n",
    "        # 如果需要返回图像数据，那么就返回\n",
    "        return image_cuts\n",
    "    return count\n",
    "\n",
    "#读取四则运算的图片\n",
    "img = cv2.imread('./test/86.png', cv2.IMREAD_GRAYSCALE)\n",
    "\n",
    "#获取切割后的图片\n",
    "img_cuts = get_image_cuts(img, dir=None, is_data=False, n_lines=1, data_needed=True, count=0)\n",
    "print(img_cuts.shape)\n",
    "for i in range(img_cuts.shape[0]):\n",
    "    plt.subplot(1, 6, i+1)\n",
    "    plt.imshow(img_cuts[i].reshape(28, 28), cmap='gray')"
   ]
  },
  {
   "cell_type": "code",
   "execution_count": 8,
   "metadata": {},
   "outputs": [
    {
     "name": "stdout",
     "output_type": "stream",
     "text": [
      "1*2+(4-2) = 4\n"
     ]
    }
   ],
   "source": [
    "def calculate(equation):\n",
    "    OPERATORS = {'add': '+', 'sub': '-', 'mul': '*', 'div': '/'}\n",
    "    # Transform equation to infix notation\n",
    "    infix = []\n",
    "    for item in equation:\n",
    "        if item in OPERATORS:\n",
    "            infix.append(OPERATORS[item])\n",
    "        elif item == 'left':\n",
    "            infix.append('(')\n",
    "        elif item == 'right':\n",
    "            infix.append(')')\n",
    "        else:\n",
    "            infix.append(item)\n",
    "    infix_equation = ''.join(infix)\n",
    "\n",
    "    # Evaluate the expression\n",
    "    result = eval(infix_equation)\n",
    "\n",
    "    return result, infix_equation\n",
    "\n",
    "equation = ['1', 'mul', '2', 'add', 'left','4','sub', '2','right']\n",
    "result, infix_equation = calculate(equation)\n",
    "print(infix_equation, '=', result)\n"
   ]
  }
 ],
 "metadata": {
  "kernelspec": {
   "display_name": "deepl",
   "language": "python",
   "name": "python3"
  },
  "language_info": {
   "codemirror_mode": {
    "name": "ipython",
    "version": 3
   },
   "file_extension": ".py",
   "mimetype": "text/x-python",
   "name": "python",
   "nbconvert_exporter": "python",
   "pygments_lexer": "ipython3",
   "version": "3.7.12"
  },
  "orig_nbformat": 4
 },
 "nbformat": 4,
 "nbformat_minor": 2
}
